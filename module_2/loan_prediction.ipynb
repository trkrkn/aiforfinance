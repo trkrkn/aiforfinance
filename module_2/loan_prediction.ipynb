{
 "cells": [
  {
   "cell_type": "markdown",
   "id": "e81bf94b",
   "metadata": {},
   "source": [
    "# Loan Default Prediction with Synthetic Data\n",
    "\n",
    "This notebook generates a synthetic dataset for binary classification (loan default prediction), and trains three models:\n",
    "\n",
    "- Decision Tree\n",
    "- Random Forest\n",
    "- Neural Network"
   ]
  },
  {
   "cell_type": "code",
   "execution_count": 3,
   "id": "d438f202",
   "metadata": {},
   "outputs": [],
   "source": [
    "import pandas as pd\n",
    "import numpy as np\n",
    "from sklearn.model_selection import train_test_split\n",
    "from sklearn.preprocessing import StandardScaler\n",
    "from sklearn.tree import DecisionTreeClassifier\n",
    "from sklearn.ensemble import RandomForestClassifier\n",
    "from sklearn.neural_network import MLPClassifier\n",
    "from sklearn.metrics import classification_report, roc_auc_score\n",
    "import matplotlib.pyplot as plt\n",
    "import seaborn as sns\n"
   ]
  },
  {
   "cell_type": "markdown",
   "id": "4d58615e",
   "metadata": {},
   "source": [
    "## Generate Synthetic Data"
   ]
  },
  {
   "cell_type": "code",
   "execution_count": 4,
   "id": "e2fd2c93-0d54-4b30-8c97-62216052621c",
   "metadata": {},
   "outputs": [],
   "source": [
    "url = 'https://raw.githubusercontent.com/trkrkn/aiforfinance/main/loan_data.csv'\n",
    "df = pd.read_csv(url)"
   ]
  },
  {
   "cell_type": "markdown",
   "id": "3013a333",
   "metadata": {},
   "source": [
    "## Preprocess Data"
   ]
  },
  {
   "cell_type": "code",
   "execution_count": 5,
   "id": "30dddb6a-6262-422a-ab43-300f6c624b96",
   "metadata": {},
   "outputs": [
    {
     "name": "stdout",
     "output_type": "stream",
     "text": [
      "Train shape: (8000, 13) (8000,)\n",
      "Test shape: (2000, 13) (2000,)\n"
     ]
    }
   ],
   "source": [
    "# Make a copy to avoid altering the original\n",
    "df_model = df.copy()\n",
    "\n",
    "# Encode binary categorical features\n",
    "df_model['Gender'] = df_model['Gender'].map({'Male': 1, 'Female': 0})\n",
    "df_model['Married'] = df_model['Married'].map({'Yes': 1, 'No': 0})\n",
    "df_model['Self_Employed'] = df_model['Self_Employed'].map({'Yes': 1, 'No': 0})\n",
    "df_model['Education'] = df_model['Education'].map({'Graduate': 1, 'Not Graduate': 0})\n",
    "df_model['Loan_Status'] = df_model['Loan_Status'].map({'Y': 1, 'N': 0})  # target\n",
    "\n",
    "# One-hot encode multiclass categorical variables\n",
    "df_model = pd.get_dummies(df_model, columns=['Dependents', 'Collateral_Type'], drop_first=True)\n",
    "\n",
    "# Drop Loan_ID (non-predictive)\n",
    "df_model.drop(columns=['Loan_ID'], inplace=True)\n",
    "\n",
    "# Split into X and y\n",
    "X = df_model.drop(columns=['Loan_Status'])\n",
    "y = df_model['Loan_Status']\n",
    "\n",
    "# Train/test split\n",
    "X_train, X_test, y_train, y_test = train_test_split(X, y, test_size=0.2, random_state=42)\n",
    "\n",
    "# Optional: scale numeric features\n",
    "numeric_cols = ['ApplicantIncome', 'CoapplicantIncome', 'LoanAmount', 'Loan_Amount_Term']\n",
    "scaler = StandardScaler()\n",
    "X_train[numeric_cols] = scaler.fit_transform(X_train[numeric_cols])\n",
    "X_test[numeric_cols] = scaler.transform(X_test[numeric_cols])\n",
    "\n",
    "# Check shapes\n",
    "print(\"Train shape:\", X_train.shape, y_train.shape)\n",
    "print(\"Test shape:\", X_test.shape, y_test.shape)"
   ]
  },
  {
   "cell_type": "markdown",
   "id": "3970d11e",
   "metadata": {},
   "source": [
    "## Train and Evaluate Models"
   ]
  },
  {
   "cell_type": "markdown",
   "id": "b39ba2ba-4054-401c-b010-dbf80bc8d316",
   "metadata": {},
   "source": [
    "## Decision Tree"
   ]
  },
  {
   "cell_type": "code",
   "execution_count": 16,
   "id": "34750d4d-b60f-4fcc-97d7-1b316c7da64b",
   "metadata": {},
   "outputs": [],
   "source": [
    "dt_model = DecisionTreeClassifier(max_depth=10, random_state=42)\n",
    "dt_model.fit(X_train, y_train)\n",
    "dt_pred = dt_model.predict(X_test)\n",
    "dt_proba = dt_model.predict_proba(X_test)[:, 1]"
   ]
  },
  {
   "cell_type": "markdown",
   "id": "a59fd0d0-af74-484c-b9ed-f5437f8aefd4",
   "metadata": {},
   "source": [
    "### Output performance"
   ]
  },
  {
   "cell_type": "code",
   "execution_count": 15,
   "id": "65d77494-d908-4a72-b9d0-80d27a354a3d",
   "metadata": {},
   "outputs": [
    {
     "name": "stdout",
     "output_type": "stream",
     "text": [
      "Decision Tree Performance\n",
      "ROC AUC: 0.64\n",
      "Precision (1): 0.55\n",
      "Recall (1): 0.43\n",
      "F1-Score (1): 0.48\n",
      "----------------------------------------\n"
     ]
    }
   ],
   "source": [
    "dt_report = classification_report(y_test, dt_pred, output_dict=True)\n",
    "dt_auc = roc_auc_score(y_test, dt_proba)\n",
    "\n",
    "print(\"Decision Tree Performance\")\n",
    "print(f\"ROC AUC: {dt_auc:.2f}\")\n",
    "print(f\"Precision (1): {dt_report['1']['precision']:.2f}\")\n",
    "print(f\"Recall (1): {dt_report['1']['recall']:.2f}\")\n",
    "print(f\"F1-Score (1): {dt_report['1']['f1-score']:.2f}\")\n",
    "print(\"-\" * 40)"
   ]
  },
  {
   "cell_type": "markdown",
   "id": "c238d7e7-2a1d-4f3c-9a7a-129ac5f37d73",
   "metadata": {},
   "source": [
    "## Random Forest"
   ]
  },
  {
   "cell_type": "code",
   "execution_count": 27,
   "id": "66b7f0ff-6228-4e5d-bd7e-80466eb26fee",
   "metadata": {},
   "outputs": [],
   "source": [
    "rf_model = RandomForestClassifier(n_estimators=100, random_state=42)\n",
    "rf_model.fit(X_train, y_train)\n",
    "rf_pred = rf_model.predict(X_test)\n",
    "rf_proba = rf_model.predict_proba(X_test)[:, 1]"
   ]
  },
  {
   "cell_type": "markdown",
   "id": "dbfe8d48-2613-40ea-8b5a-1f43b2fce01d",
   "metadata": {},
   "source": [
    "### Output performance"
   ]
  },
  {
   "cell_type": "code",
   "execution_count": 28,
   "id": "8fc239c2-3c73-4e51-ad64-8d7ea4a2a257",
   "metadata": {},
   "outputs": [
    {
     "name": "stdout",
     "output_type": "stream",
     "text": [
      "Random Forest Performance\n",
      "ROC AUC: 0.68\n",
      "Precision (1): 0.59\n",
      "Recall (1): 0.43\n",
      "F1-Score (1): 0.50\n",
      "----------------------------------------\n"
     ]
    }
   ],
   "source": [
    "rf_report = classification_report(y_test, rf_pred, output_dict=True)\n",
    "rf_auc = roc_auc_score(y_test, rf_proba)\n",
    "\n",
    "print(\"Random Forest Performance\")\n",
    "print(f\"ROC AUC: {rf_auc:.2f}\")\n",
    "print(f\"Precision (1): {rf_report['1']['precision']:.2f}\")\n",
    "print(f\"Recall (1): {rf_report['1']['recall']:.2f}\")\n",
    "print(f\"F1-Score (1): {rf_report['1']['f1-score']:.2f}\")\n",
    "print(\"-\" * 40)"
   ]
  },
  {
   "cell_type": "markdown",
   "id": "3975c8bf-c10e-4dda-8313-ea478873ba8f",
   "metadata": {},
   "source": [
    "## Neural Network"
   ]
  },
  {
   "cell_type": "code",
   "execution_count": 20,
   "id": "64ce3685-4ed2-44a5-ba36-0f156bcbaabe",
   "metadata": {},
   "outputs": [],
   "source": [
    "# nn_model = MLPClassifier(hidden_layer_sizes=(64, 32), max_iter=500, random_state=42)\n",
    "nn_model = MLPClassifier(hidden_layer_sizes=(128, 64), max_iter=500, early_stopping=True, random_state=42)\n",
    "nn_model.fit(X_train, y_train)  # scaled input\n",
    "nn_pred = nn_model.predict(X_test)\n",
    "nn_proba = nn_model.predict_proba(X_test)[:, 1]"
   ]
  },
  {
   "cell_type": "markdown",
   "id": "b1c5f54d-ff47-4aec-a20a-38656755ca70",
   "metadata": {},
   "source": [
    "### Output performance"
   ]
  },
  {
   "cell_type": "code",
   "execution_count": 19,
   "id": "4dbadded-5715-46ee-a056-8d53fe177c0c",
   "metadata": {},
   "outputs": [
    {
     "name": "stdout",
     "output_type": "stream",
     "text": [
      "Neural Network Performance\n",
      "ROC AUC: 0.71\n",
      "Precision (1): 0.62\n",
      "Recall (1): 0.44\n",
      "F1-Score (1): 0.52\n",
      "----------------------------------------\n"
     ]
    }
   ],
   "source": [
    "nn_report = classification_report(y_test, nn_pred, output_dict=True)\n",
    "nn_auc = roc_auc_score(y_test, nn_proba)\n",
    "\n",
    "print(\"Neural Network Performance\")\n",
    "print(f\"ROC AUC: {nn_auc:.2f}\")\n",
    "print(f\"Precision (1): {nn_report['1']['precision']:.2f}\")\n",
    "print(f\"Recall (1): {nn_report['1']['recall']:.2f}\")\n",
    "print(f\"F1-Score (1): {nn_report['1']['f1-score']:.2f}\")\n",
    "print(\"-\" * 40)"
   ]
  },
  {
   "cell_type": "markdown",
   "id": "36a0874a-cfba-40ee-b93f-fff42687e56b",
   "metadata": {},
   "source": [
    "## All models together"
   ]
  },
  {
   "cell_type": "code",
   "execution_count": null,
   "id": "0835c3fc",
   "metadata": {},
   "outputs": [],
   "source": [
    "models = {\n",
    "    \"Decision Tree\": DecisionTreeClassifier(max_depth=8, random_state=42),\n",
    "    \"Random Forest\": RandomForestClassifier(n_estimators=100, random_state=42),\n",
    "    \"Neural Network\": MLPClassifier(hidden_layer_sizes=(64, 32), max_iter=500, early_stopping=True, random_state=42)\n",
    "}\n",
    "\n",
    "results = {}\n",
    "for name, model in models.items():\n",
    "    model.fit(X_train, y_train)\n",
    "    y_pred = model.predict(X_test)\n",
    "    y_proba = model.predict_proba(X_test)[:, 1]\n",
    "    report = classification_report(y_test, y_pred, output_dict=True)\n",
    "    auc = roc_auc_score(y_test, y_proba)\n",
    "    results[name] = {\n",
    "        \"classification_report\": report,\n",
    "        \"roc_auc\": auc\n",
    "    }\n",
    "\n",
    "# Display model performance\n",
    "summary_df = pd.DataFrame({\n",
    "    model: {\n",
    "        \"ROC AUC\": f\"{results[model]['roc_auc']:.2f}\",\n",
    "        \"Precision (1)\": f\"{results[model]['classification_report']['1']['precision']:.2f}\",\n",
    "        \"Recall (1)\": f\"{results[model]['classification_report']['1']['recall']:.2f}\",\n",
    "        \"F1-Score (1)\": f\"{results[model]['classification_report']['1']['f1-score']:.2f}\"\n",
    "    }\n",
    "    for model in results\n",
    "}).T.reset_index().rename(columns={\"index\": \"Model\"})\n",
    "\n",
    "summary_df\n"
   ]
  },
  {
   "cell_type": "code",
   "execution_count": null,
   "id": "2d8dc1c5-e5aa-491a-83e3-092132b67a89",
   "metadata": {},
   "outputs": [],
   "source": []
  }
 ],
 "metadata": {
  "kernelspec": {
   "display_name": "Python 3 (ipykernel)",
   "language": "python",
   "name": "python3"
  },
  "language_info": {
   "codemirror_mode": {
    "name": "ipython",
    "version": 3
   },
   "file_extension": ".py",
   "mimetype": "text/x-python",
   "name": "python",
   "nbconvert_exporter": "python",
   "pygments_lexer": "ipython3",
   "version": "3.12.7"
  }
 },
 "nbformat": 4,
 "nbformat_minor": 5
}
