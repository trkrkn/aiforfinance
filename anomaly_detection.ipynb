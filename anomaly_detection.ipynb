{
 "cells": [
  {
   "cell_type": "markdown",
   "id": "538a9d8f",
   "metadata": {},
   "source": [
    "# Anomaly Detection in Credit Card Transactions with K-Means\n",
    "\n",
    "This notebook applies **K-Means clustering** to detect anomalies based on distance to cluster centers. The optimal number of clusters is selected using the **silhouette score**."
   ]
  },
  {
   "cell_type": "code",
   "execution_count": null,
   "id": "20805b95",
   "metadata": {},
   "outputs": [],
   "source": [
    "import pandas as pd\n",
    "import numpy as np\n",
    "import matplotlib.pyplot as plt\n",
    "from sklearn.preprocessing import StandardScaler, OneHotEncoder\n",
    "from sklearn.cluster import KMeans\n",
    "from sklearn.metrics import silhouette_score\n",
    "\n",
    "# For reproducibility\n",
    "np.random.seed(42)"
   ]
  },
  {
   "cell_type": "markdown",
   "id": "f44d1c32-3825-4f05-90a9-016743cc3529",
   "metadata": {},
   "source": [
    "## Upload Data"
   ]
  },
  {
   "cell_type": "code",
   "execution_count": null,
   "id": "42828620-39fc-483f-835d-72e6fe77a220",
   "metadata": {},
   "outputs": [],
   "source": [
    "url = 'https://raw.githubusercontent.com/trkrkn/aiforfinance/main/transaction_data.csv'\n",
    "df_original = pd.read_csv(url)"
   ]
  },
  {
   "cell_type": "markdown",
   "id": "2ab4715d",
   "metadata": {},
   "source": [
    "## Preprocess Data"
   ]
  },
  {
   "cell_type": "code",
   "execution_count": null,
   "id": "9f784815-8e19-41ab-8215-5e4edeedf8a0",
   "metadata": {},
   "outputs": [],
   "source": [
    "# Make a copy to avoid altering the original\n",
    "df = df_original.copy()"
   ]
  },
  {
   "cell_type": "code",
   "execution_count": null,
   "id": "976c4067-fffe-4839-9a73-081c5f2da6dd",
   "metadata": {},
   "outputs": [],
   "source": [
    "# Add derived feature: day of week (0 = Monday, 6 = Sunday)\n",
    "df['date'] = pd.to_datetime(df['date'])\n",
    "df['day_of_week'] = df['date'].dt.dayofweek\n",
    "df = df.drop(['date'], axis = 1)\n",
    "\n",
    "# Separate features\n",
    "features = df[['sender', 'receiver', 'latitude', 'longitude', 'amount', 'day_of_week']]\n",
    "\n",
    "# One-hot encode sender and receiver\n",
    "encoder = OneHotEncoder(handle_unknown='ignore', sparse_output=False)\n",
    "cat_encoded = encoder.fit_transform(features[['sender', 'receiver']])\n",
    "cat_feature_names = encoder.get_feature_names_out(['sender', 'receiver'])\n",
    "\n",
    "# Scale numeric features\n",
    "scaler = StandardScaler()\n",
    "num_scaled = scaler.fit_transform(features[['latitude', 'longitude', 'amount', 'day_of_week']].values)\n",
    "\n",
    "# Combine all features\n",
    "from numpy import hstack\n",
    "X_combined = hstack([num_scaled, cat_encoded])"
   ]
  },
  {
   "cell_type": "markdown",
   "id": "c7f4234e",
   "metadata": {},
   "source": [
    "## Optimize Number of Clusters"
   ]
  },
  {
   "cell_type": "code",
   "execution_count": null,
   "id": "8e251b6e",
   "metadata": {},
   "outputs": [],
   "source": [
    "silhouette_scores = {}\n",
    "for k in range(2, 10):\n",
    "    kmeans_tmp = KMeans(n_clusters=k, random_state=0)\n",
    "    labels = kmeans_tmp.fit_predict(X_combined)\n",
    "    score = silhouette_score(X_combined, labels)\n",
    "    silhouette_scores[k] = score\n",
    "\n",
    "optimal_k = max(silhouette_scores, key=silhouette_scores.get)\n",
    "print(f\"Optimal number of clusters: {optimal_k} (Silhouette Score = {silhouette_scores[optimal_k]:.2f})\")\n"
   ]
  },
  {
   "cell_type": "code",
   "execution_count": null,
   "id": "2466193e",
   "metadata": {},
   "outputs": [],
   "source": [
    "plt.figure(figsize=(8, 5))\n",
    "plt.plot(list(silhouette_scores.keys()), list(silhouette_scores.values()), marker='o')\n",
    "plt.title(\"Silhouette Scores for Different k\")\n",
    "plt.xlabel(\"Number of Clusters (k)\")\n",
    "plt.ylabel(\"Silhouette Score\")\n",
    "plt.grid(True)\n",
    "plt.show()\n"
   ]
  },
  {
   "cell_type": "markdown",
   "id": "a8f046cc",
   "metadata": {},
   "source": [
    "## Apply K-Means and Detect Anomalies"
   ]
  },
  {
   "cell_type": "code",
   "execution_count": null,
   "id": "f8a5e1f1-8c31-442a-ba52-c1c59a3969a6",
   "metadata": {},
   "outputs": [],
   "source": [
    "kmeans = KMeans(n_clusters=optimal_k, random_state=42)\n",
    "clusters = kmeans.fit_predict(X_combined)\n",
    "centroids = kmeans.cluster_centers_\n",
    "distances = np.linalg.norm(X_combined - centroids[clusters], axis=1)\n",
    "\n",
    "df['Cluster'] = clusters\n",
    "df['Distance_to_Center'] = distances\n",
    "threshold = np.quantile(distances, 0.95)\n",
    "df['Anomaly'] = distances > threshold"
   ]
  },
  {
   "cell_type": "code",
   "execution_count": null,
   "id": "431652ea-3df7-4ab9-9312-820fffccc93c",
   "metadata": {},
   "outputs": [],
   "source": [
    "df[['sender', 'receiver', 'amount', 'Cluster', 'Distance_to_Center', 'Anomaly']].head(10)"
   ]
  },
  {
   "cell_type": "code",
   "execution_count": null,
   "id": "69ca1acc-268c-424b-ad49-38d4fad8412c",
   "metadata": {},
   "outputs": [],
   "source": [
    "len(df[df.Anomaly == True])"
   ]
  },
  {
   "cell_type": "code",
   "execution_count": null,
   "id": "f4bf7321-89bf-4dec-9c04-d8ed0944e6ba",
   "metadata": {},
   "outputs": [],
   "source": []
  }
 ],
 "metadata": {
  "kernelspec": {
   "display_name": "Python 3 (ipykernel)",
   "language": "python",
   "name": "python3"
  },
  "language_info": {
   "codemirror_mode": {
    "name": "ipython",
    "version": 3
   },
   "file_extension": ".py",
   "mimetype": "text/x-python",
   "name": "python",
   "nbconvert_exporter": "python",
   "pygments_lexer": "ipython3",
   "version": "3.12.7"
  }
 },
 "nbformat": 4,
 "nbformat_minor": 5
}
