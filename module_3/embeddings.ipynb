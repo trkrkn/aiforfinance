{
 "cells": [
  {
   "cell_type": "code",
   "execution_count": null,
   "id": "853b35ee-5200-4786-b394-8f7614244e49",
   "metadata": {
    "editable": true,
    "slideshow": {
     "slide_type": ""
    },
    "tags": []
   },
   "outputs": [],
   "source": [
    "# For Colab part:\n",
    "!pip uninstall -y numpy\n",
    "!pip install numpy==1.26.4\n",
    "!pip install gensim\n",
    "import os\n",
    "os._exit(00)  # Force restart the Colab kernel"
   ]
  },
  {
   "cell_type": "code",
   "execution_count": null,
   "id": "1c2901cc-3f9a-41e2-ad08-26be616f2da3",
   "metadata": {
    "editable": true,
    "slideshow": {
     "slide_type": ""
    },
    "tags": []
   },
   "outputs": [],
   "source": [
    "import gensim.downloader as api\n",
    "\n",
    "# Load a smaller pretrained model\n",
    "model = api.load(\"glove-wiki-gigaword-100\")  # ~128MB"
   ]
  },
  {
   "cell_type": "code",
   "execution_count": null,
   "id": "90e344f1-6c6d-4973-a4d5-40c0ceafa1f5",
   "metadata": {
    "editable": true,
    "slideshow": {
     "slide_type": ""
    },
    "tags": []
   },
   "outputs": [],
   "source": [
    "# Semantic arithmetic\n",
    "result = model.most_similar(positive=[\"boy\", \"horse\"], negative=[\"feet\"], topn=5)\n",
    "for word, score in result:\n",
    "    print(f\"{word}: {score:.4f}\")"
   ]
  },
  {
   "cell_type": "code",
   "execution_count": null,
   "id": "596348de-bff6-4601-9569-859a77531548",
   "metadata": {
    "editable": true,
    "slideshow": {
     "slide_type": ""
    },
    "tags": []
   },
   "outputs": [],
   "source": [
    "model.most_similar(positive=[\"paris\", \"italy\"], negative=[\"france\"])"
   ]
  },
  {
   "cell_type": "code",
   "execution_count": null,
   "id": "fcff48cb-bdce-40ba-a15d-2dd61bcfd55a",
   "metadata": {
    "editable": true,
    "slideshow": {
     "slide_type": ""
    },
    "tags": []
   },
   "outputs": [],
   "source": [
    "model.most_similar(positive=[\"ceo\", \"university\"], negative=[\"company\"])"
   ]
  }
 ],
 "metadata": {
  "kernelspec": {
   "display_name": "Python 3 (ipykernel)",
   "language": "python",
   "name": "python3"
  },
  "language_info": {
   "codemirror_mode": {
    "name": "ipython",
    "version": 3
   },
   "file_extension": ".py",
   "mimetype": "text/x-python",
   "name": "python",
   "nbconvert_exporter": "python",
   "pygments_lexer": "ipython3",
   "version": "3.12.7"
  }
 },
 "nbformat": 4,
 "nbformat_minor": 5
}
